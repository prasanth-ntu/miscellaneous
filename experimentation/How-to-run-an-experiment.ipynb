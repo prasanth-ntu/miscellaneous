{
 "cells": [
  {
   "cell_type": "markdown",
   "metadata": {},
   "source": [
    "**Table of contents**<a id='toc0_'></a>    \n",
    "- [Formulating the hypothesis](#toc1_)    \n",
    "- [Define the success metrics and gaurd rails](#toc2_)    \n",
    "  - [Metrics](#toc2_1_)    \n",
    "  - [Guardrails](#toc2_2_)    \n",
    "- [Success metrics and guard rails](#toc3_)    \n",
    "\n",
    "<!-- vscode-jupyter-toc-config\n",
    "\tnumbering=false\n",
    "\tanchor=true\n",
    "\tflat=false\n",
    "\tminLevel=1\n",
    "\tmaxLevel=6\n",
    "\t/vscode-jupyter-toc-config -->\n",
    "<!-- THIS CELL WILL BE REPLACED ON TOC UPDATE. DO NOT WRITE YOUR TEXT IN THIS CELL -->"
   ]
  },
  {
   "cell_type": "markdown",
   "metadata": {},
   "source": [
    "<b>Title ideas</b>\n",
    "- Using Machine Learning to Improve Customer Experience: A Guide to Running Your First Experiment\n",
    "- \"The Art of Running an Experiment: A Comprehensive Guide\"\n",
    "- \"A Step-By-Step Guide to Running Successful Experiments\"\n",
    "- \"Experimentation Essentials: How to Conduct Effective Tests\"\n",
    "- \"Mastering the Experiment: A Hands-On Guide for Beginners\"\n",
    "- \"Conducting Experiments: From Hypothesis to Conclusions- \""
   ]
  },
  {
   "cell_type": "markdown",
   "metadata": {},
   "source": [
    "# <a id='toc1_'></a>[Formulate the hypothesis](#toc0_)"
   ]
  },
  {
   "cell_type": "markdown",
   "metadata": {},
   "source": [
    "Let's say, we are working in a food delivery platform (e.g., UberEats).\n",
    "\n",
    "The mobile app currently shows a fixed delivery time of 2 hours for all the customers in their home/search page where they find the listing of all the restaurants. \n",
    "\n",
    "After some high level market study, the product team proposes that we could use an ML model to show a (more optimal and enticing) delivery time instead of flat delivery time of 2 hours in the home/search page. Their underlying belief is that by making this update, it could tone down customer apprehension, prompting more users to delve into exploring restaurants and ultimately, placing an order (phew).  \n",
    "\n",
    "Once the user finalises the restaurant and the food items, perhaps, another ML model could kick in to show the estimated food delivery time (post ordering) more accurately, which is not our focus for this experiment. "
   ]
  },
  {
   "cell_type": "markdown",
   "metadata": {},
   "source": [
    "> Hypothesis: By replacing the fixed 2-hour delivery time shown on our food delivery platform's home/search page with a more optimal, ML model-estimated delivery time, we anticipate an increase in the Click-Through Rate (CTR) and Conversion Rate as customers' anxiety would get alleviated, encouraging them to explore and order more from the listed restaurants."
   ]
  },
  {
   "cell_type": "markdown",
   "metadata": {},
   "source": [
    "# <a id='toc2_'></a>[Define the success metrics and gaurd rails](#toc0_)"
   ]
  },
  {
   "cell_type": "markdown",
   "metadata": {},
   "source": [
    "Since we want to make more customers to click on the restaurants options (by showing a more optimized delivery time on the home page) and proceed to order food, our analysis should primarily docus on the Click through rate (CTR) and conversion rate.\n",
    "\n",
    "## <a id='toc2_1_'></a>[Metrics](#toc0_)\n",
    "\n",
    "- <b>CTR</b>: `Number of Clicks/Number of sessions`\n",
    "  - This is a great initial metric to track in this scenario because we're changing something specific on the homepage/search page. The aim is to encourage people to click on a restaurant to explore more, instead of being deterred by a long delivery time. Therefore, tracking the CTR would help evaluate if the implementation of a more optimal, ML-predicted delivery time results in an increased percentage of users clicking on the restaurants.\n",
    "- <b>Conversion Rate</b>: `Number of orders/Number of Clicks`\n",
    "  - Once a user has clicked on a restaurant, the ultimate goal is for them to finalize and order their food items. Therefore, this is the correct metric for measuring how successfully we've managed to turn app visitors into customers. It could help us gauge whether displaying an optimized delivery time using an ML model results in more orders placed, thereby improving the conversion rate.\n",
    "\n",
    "## <a id='toc2_2_'></a>[Guardrails](#toc0_)\n",
    "While these metrics are critical, we might also want to consider some additional metrics like average order value (to see if people are ordering more or less), user retention rate (to see if they keep coming back), and customer satisfaction score (to measure the overall user experience), as they can provide a holistic view of the results of our experiment. \n",
    "\n",
    "But, for simplicity, let's stick with the CTR and conversion rate."
   ]
  },
  {
   "cell_type": "markdown",
   "metadata": {},
   "source": [
    "# Estimate sample size"
   ]
  },
  {
   "cell_type": "code",
   "execution_count": null,
   "metadata": {},
   "outputs": [],
   "source": []
  },
  {
   "cell_type": "markdown",
   "metadata": {},
   "source": [
    "# Notes\n",
    "- Ensure the experiment is running properly and is tracked properly\n",
    "- Analysing the experiment \n",
    "    - <b>Important</b>: Do it for a small time window (e.g., single day), and expand it to the entire duration, \n",
    "    - <b>Important</b>: Especially when you are combining data from multiple tables/sources, don't ignore the NULL values that arise from the join, as they may carry hidden information (e.g., config issue, etc.)\n",
    "    - <b>Important</b>: Do a quick sanity check on the exp results, compare it with existing metrics (from dashboards, etc.) and then do a detailed analysis"
   ]
  },
  {
   "cell_type": "markdown",
   "metadata": {},
   "source": [
    "# Resources\n",
    "- "
   ]
  },
  {
   "cell_type": "markdown",
   "metadata": {},
   "source": [
    "Testing the autofill capability of GPT"
   ]
  },
  {
   "cell_type": "markdown",
   "metadata": {},
   "source": []
  },
  {
   "cell_type": "code",
   "execution_count": 1,
   "metadata": {},
   "outputs": [
    {
     "name": "stdout",
     "output_type": "stream",
     "text": [
      "Sum of 15 and 12 is 27\n"
     ]
    }
   ],
   "source": [
    "# Python code for adding 2 numbers and printing the result\n",
    "num1 = 15\n",
    "num2 = 12\n",
    "sum = num1 + num2\n",
    "print(\"Sum of {0} and {1} is {2}\" .format(num1, num2, sum))"
   ]
  },
  {
   "cell_type": "markdown",
   "metadata": {},
   "source": []
  }
 ],
 "metadata": {
  "kernelspec": {
   "display_name": "fastai_related",
   "language": "python",
   "name": "python3"
  },
  "language_info": {
   "codemirror_mode": {
    "name": "ipython",
    "version": 3
   },
   "file_extension": ".py",
   "mimetype": "text/x-python",
   "name": "python",
   "nbconvert_exporter": "python",
   "pygments_lexer": "ipython3",
   "version": "3.10.5"
  }
 },
 "nbformat": 4,
 "nbformat_minor": 2
}
