{
 "cells": [
  {
   "cell_type": "markdown",
   "metadata": {},
   "source": [
    "# imports"
   ]
  },
  {
   "cell_type": "code",
   "execution_count": 128,
   "metadata": {
    "ExecuteTime": {
     "end_time": "2019-12-04T06:15:14.632058Z",
     "start_time": "2019-12-04T06:15:14.622061Z"
    }
   },
   "outputs": [],
   "source": [
    "import numpy as np\n",
    "import pandas as pd\n",
    "from time import time, sleep\n",
    "import re\n",
    "from collections import Counter"
   ]
  },
  {
   "cell_type": "markdown",
   "metadata": {},
   "source": [
    "# shorthand if-else"
   ]
  },
  {
   "cell_type": "code",
   "execution_count": 53,
   "metadata": {
    "ExecuteTime": {
     "end_time": "2019-12-04T04:03:14.429913Z",
     "start_time": "2019-12-04T04:03:14.423916Z"
    }
   },
   "outputs": [],
   "source": [
    "age = 15"
   ]
  },
  {
   "cell_type": "code",
   "execution_count": 54,
   "metadata": {
    "ExecuteTime": {
     "end_time": "2019-12-04T04:03:14.574830Z",
     "start_time": "2019-12-04T04:03:14.563837Z"
    }
   },
   "outputs": [
    {
     "name": "stdout",
     "output_type": "stream",
     "text": [
      "teenager\n"
     ]
    }
   ],
   "source": [
    "# Traditional if-else\n",
    "if age<18:\n",
    "    print ('teenager')\n",
    "else:\n",
    "    print ('adult')"
   ]
  },
  {
   "cell_type": "code",
   "execution_count": 55,
   "metadata": {
    "ExecuteTime": {
     "end_time": "2019-12-04T04:03:15.023573Z",
     "start_time": "2019-12-04T04:03:15.013579Z"
    }
   },
   "outputs": [
    {
     "name": "stdout",
     "output_type": "stream",
     "text": [
      "teenager\n"
     ]
    }
   ],
   "source": [
    "# Short hand if-else notation \n",
    "print('teenager' if age<18 else 'adult')"
   ]
  },
  {
   "cell_type": "code",
   "execution_count": 56,
   "metadata": {
    "ExecuteTime": {
     "end_time": "2019-12-04T04:03:15.238453Z",
     "start_time": "2019-12-04T04:03:15.224459Z"
    }
   },
   "outputs": [
    {
     "name": "stdout",
     "output_type": "stream",
     "text": [
      "teenager\n"
     ]
    }
   ],
   "source": [
    "# Traditional nested if-elif-else\n",
    "if age < 13:\n",
    "    print ('kid')\n",
    "elif age < 18:\n",
    "    print ('teenager')\n",
    "else:\n",
    "    print ('adult')"
   ]
  },
  {
   "cell_type": "code",
   "execution_count": 57,
   "metadata": {
    "ExecuteTime": {
     "end_time": "2019-12-04T04:03:15.440341Z",
     "start_time": "2019-12-04T04:03:15.428342Z"
    }
   },
   "outputs": [
    {
     "name": "stdout",
     "output_type": "stream",
     "text": [
      "teenager\n"
     ]
    }
   ],
   "source": [
    "# Short hand id-elif-else\n",
    "print('kid' if age<13 else 'teenager' if age<18 else 'adult')"
   ]
  },
  {
   "cell_type": "markdown",
   "metadata": {},
   "source": [
    "# enumerate"
   ]
  },
  {
   "cell_type": "markdown",
   "metadata": {},
   "source": [
    "A lot of times when dealing with iterators, we also get a need to keep a count of iterations. Python eases the programmers’ task by providing a built-in function `enumerate()` for this task."
   ]
  },
  {
   "cell_type": "code",
   "execution_count": 13,
   "metadata": {
    "ExecuteTime": {
     "end_time": "2019-12-04T03:52:12.401024Z",
     "start_time": "2019-12-04T03:52:12.395027Z"
    }
   },
   "outputs": [],
   "source": [
    "letters = ['a','b','c','d','e','a','b','c','d','e']"
   ]
  },
  {
   "cell_type": "code",
   "execution_count": 14,
   "metadata": {
    "ExecuteTime": {
     "end_time": "2019-12-04T03:52:12.676870Z",
     "start_time": "2019-12-04T03:52:12.663873Z"
    }
   },
   "outputs": [
    {
     "name": "stdout",
     "output_type": "stream",
     "text": [
      "0 a\n",
      "1 b\n",
      "2 c\n",
      "3 d\n",
      "4 e\n",
      "5 a\n",
      "6 b\n",
      "7 c\n",
      "8 d\n",
      "9 e\n"
     ]
    }
   ],
   "source": [
    "# Using manual counter inside loop\n",
    "i = 0\n",
    "for letter in letters:\n",
    "    print (i, letter)\n",
    "    i+=1"
   ]
  },
  {
   "cell_type": "code",
   "execution_count": 15,
   "metadata": {
    "ExecuteTime": {
     "end_time": "2019-12-04T03:52:30.680174Z",
     "start_time": "2019-12-04T03:52:30.666180Z"
    }
   },
   "outputs": [
    {
     "name": "stdout",
     "output_type": "stream",
     "text": [
      "0 a\n",
      "1 b\n",
      "2 c\n",
      "3 d\n",
      "4 e\n",
      "5 a\n",
      "6 b\n",
      "7 c\n",
      "8 d\n",
      "9 e\n"
     ]
    }
   ],
   "source": [
    "# Using range and len function\n",
    "for i in range(len(letters)):\n",
    "    print (i, letters[i])"
   ]
  },
  {
   "cell_type": "code",
   "execution_count": 11,
   "metadata": {
    "ExecuteTime": {
     "end_time": "2019-12-04T03:51:42.365746Z",
     "start_time": "2019-12-04T03:51:42.354754Z"
    }
   },
   "outputs": [
    {
     "name": "stdout",
     "output_type": "stream",
     "text": [
      "0 a\n",
      "1 b\n",
      "2 c\n",
      "3 d\n",
      "4 e\n"
     ]
    }
   ],
   "source": [
    "# Using enumerate function\n",
    "letters = ['a','b','c','d','e']\n",
    "for i, letter in enumerate(letters):\n",
    "    print (i, letter)"
   ]
  },
  {
   "cell_type": "markdown",
   "metadata": {},
   "source": [
    "# zip"
   ]
  },
  {
   "cell_type": "markdown",
   "metadata": {},
   "source": [
    "Used for parallel iteration"
   ]
  },
  {
   "cell_type": "code",
   "execution_count": 234,
   "metadata": {
    "ExecuteTime": {
     "end_time": "2019-12-04T07:42:13.670977Z",
     "start_time": "2019-12-04T07:42:13.656983Z"
    }
   },
   "outputs": [
    {
     "name": "stdout",
     "output_type": "stream",
     "text": [
      "0 10 100\n",
      "1 12 120\n",
      "2 14 140\n",
      "3 16 160\n",
      "4 18 180\n",
      "5 20 200\n",
      "6 22 220\n",
      "7 24 240\n",
      "8 26 260\n",
      "9 28 280\n"
     ]
    }
   ],
   "source": [
    "a = range(0,10)\n",
    "b = range(10,30,2)\n",
    "c = range(100,10000,20)\n",
    "for i,j,k in zip(a,b,c):\n",
    "    print (i,j,k)"
   ]
  },
  {
   "cell_type": "code",
   "execution_count": 239,
   "metadata": {
    "ExecuteTime": {
     "end_time": "2019-12-04T07:43:37.031795Z",
     "start_time": "2019-12-04T07:43:37.015801Z"
    }
   },
   "outputs": [
    {
     "name": "stdout",
     "output_type": "stream",
     "text": [
      "1 a a\n",
      "2 b bb\n",
      "3 c ccc\n",
      "4 d dddd\n",
      "5 e eeeee\n",
      "6 f ffffff\n",
      "7 g ggggggg\n",
      "8 h hhhhhhhh\n",
      "9 i iiiiiiiii\n"
     ]
    }
   ],
   "source": [
    "a = range(1,10)\n",
    "b = ['a','b','c','d','e','f','g','h','i','j']\n",
    "for i,j in zip(a,b):\n",
    "    print (i,j, i*j)"
   ]
  },
  {
   "cell_type": "markdown",
   "metadata": {},
   "source": [
    "# Comprehension\n",
    "## list comprehension"
   ]
  },
  {
   "cell_type": "markdown",
   "metadata": {},
   "source": [
    "Simple for loops can be written using list comprehension.\n",
    "\n",
    "    - Let's see an example that extracts only the odd numbers!"
   ]
  },
  {
   "cell_type": "code",
   "execution_count": 58,
   "metadata": {
    "ExecuteTime": {
     "end_time": "2019-12-04T04:22:53.345401Z",
     "start_time": "2019-12-04T04:22:53.330410Z"
    }
   },
   "outputs": [
    {
     "name": "stdout",
     "output_type": "stream",
     "text": [
      "[0, 2, 4, 6, 8]\n"
     ]
    }
   ],
   "source": [
    "# Tradition for loop \n",
    "result = []\n",
    "for i in range(10):\n",
    "    if i%2 == 0:\n",
    "        result.append(i)\n",
    "print (result)"
   ]
  },
  {
   "cell_type": "code",
   "execution_count": 61,
   "metadata": {
    "ExecuteTime": {
     "end_time": "2019-12-04T04:24:49.578838Z",
     "start_time": "2019-12-04T04:24:49.567844Z"
    }
   },
   "outputs": [
    {
     "name": "stdout",
     "output_type": "stream",
     "text": [
      "[0, 2, 4, 6, 8]\n"
     ]
    }
   ],
   "source": [
    "# List comprehension\n",
    "print ([i for i in range(10) if i%2==0])"
   ]
  },
  {
   "cell_type": "markdown",
   "metadata": {
    "ExecuteTime": {
     "end_time": "2019-12-04T04:25:23.110483Z",
     "start_time": "2019-12-04T04:25:23.104485Z"
    }
   },
   "source": [
    "Another example\n",
    "    - Square of first 10 numbers (Starting from 0)"
   ]
  },
  {
   "cell_type": "code",
   "execution_count": 62,
   "metadata": {
    "ExecuteTime": {
     "end_time": "2019-12-04T04:25:01.217660Z",
     "start_time": "2019-12-04T04:25:01.206666Z"
    }
   },
   "outputs": [
    {
     "name": "stdout",
     "output_type": "stream",
     "text": [
      "[0, 1, 4, 9, 16, 25, 36, 49, 64, 81]\n"
     ]
    }
   ],
   "source": [
    "print ([i**2 for i in range(10)])"
   ]
  },
  {
   "cell_type": "markdown",
   "metadata": {},
   "source": [
    "## Dict comprehension"
   ]
  },
  {
   "cell_type": "markdown",
   "metadata": {},
   "source": [
    "It allows us to encapsulate several lines you use to create dictionaries into one line. It’s is similar to list comprehension but we use dict literals `{}` instead of `[]`\n",
    "\n",
    "Example\n",
    "    - Let's see how to convert the list items into dictionary keys and convert item into lower case string"
   ]
  },
  {
   "cell_type": "code",
   "execution_count": 68,
   "metadata": {
    "ExecuteTime": {
     "end_time": "2019-12-04T04:31:40.395092Z",
     "start_time": "2019-12-04T04:31:40.387098Z"
    }
   },
   "outputs": [],
   "source": [
    "l_fruits = ['APPLE', 'MANGO', 'ORANGE']"
   ]
  },
  {
   "cell_type": "code",
   "execution_count": 74,
   "metadata": {
    "ExecuteTime": {
     "end_time": "2019-12-04T04:32:19.928592Z",
     "start_time": "2019-12-04T04:32:19.911602Z"
    }
   },
   "outputs": [
    {
     "name": "stdout",
     "output_type": "stream",
     "text": [
      "{'apple': 1, 'mango': 1, 'orange': 1}\n"
     ]
    }
   ],
   "source": [
    "d_fruits = {}\n",
    "for fruit in l_fruits:\n",
    "    d_fruits[fruit.lower()] = 1\n",
    "print (d_fruits)"
   ]
  },
  {
   "cell_type": "code",
   "execution_count": 75,
   "metadata": {
    "ExecuteTime": {
     "end_time": "2019-12-04T04:32:20.479347Z",
     "start_time": "2019-12-04T04:32:20.459358Z"
    }
   },
   "outputs": [
    {
     "data": {
      "text/plain": [
       "{'apple': 1, 'mango': 1, 'orange': 1}"
      ]
     },
     "execution_count": 75,
     "metadata": {},
     "output_type": "execute_result"
    }
   ],
   "source": [
    "{fruit.lower():1 for fruit in l_fruits}"
   ]
  },
  {
   "cell_type": "markdown",
   "metadata": {},
   "source": [
    "# String concatenation"
   ]
  },
  {
   "cell_type": "code",
   "execution_count": null,
   "metadata": {},
   "outputs": [],
   "source": [
    "words = [\"hello\", \"world\", \"how\", \"are\", \"you\"]"
   ]
  },
  {
   "cell_type": "code",
   "execution_count": 77,
   "metadata": {
    "ExecuteTime": {
     "end_time": "2019-12-04T05:25:28.200862Z",
     "start_time": "2019-12-04T05:25:28.187869Z"
    }
   },
   "outputs": [
    {
     "name": "stdout",
     "output_type": "stream",
     "text": [
      "hello world how are you \n"
     ]
    }
   ],
   "source": [
    "# Traditional string concatenation using for loop\n",
    "words_joined = ''\n",
    "for word in words:\n",
    "    words_joined = words_joined + word + ' '\n",
    "print (words_joined)"
   ]
  },
  {
   "cell_type": "code",
   "execution_count": 78,
   "metadata": {
    "ExecuteTime": {
     "end_time": "2019-12-04T05:25:42.197866Z",
     "start_time": "2019-12-04T05:25:42.186876Z"
    }
   },
   "outputs": [
    {
     "name": "stdout",
     "output_type": "stream",
     "text": [
      "hello world how are you\n"
     ]
    }
   ],
   "source": [
    "# String concatenation using .join() method\n",
    "print (' '.join(words))"
   ]
  },
  {
   "cell_type": "code",
   "execution_count": 80,
   "metadata": {
    "ExecuteTime": {
     "end_time": "2019-12-04T05:25:51.767017Z",
     "start_time": "2019-12-04T05:25:51.754023Z"
    }
   },
   "outputs": [
    {
     "name": "stdout",
     "output_type": "stream",
     "text": [
      "hello | world | how | are | you\n"
     ]
    }
   ],
   "source": [
    "print (' | '.join(words))"
   ]
  },
  {
   "cell_type": "markdown",
   "metadata": {},
   "source": [
    "# lambda functions"
   ]
  },
  {
   "cell_type": "markdown",
   "metadata": {},
   "source": [
    "`lambda` is helpful to write single line functions without naming a function"
   ]
  },
  {
   "cell_type": "code",
   "execution_count": 84,
   "metadata": {
    "ExecuteTime": {
     "end_time": "2019-12-04T05:28:14.783834Z",
     "start_time": "2019-12-04T05:28:14.766841Z"
    }
   },
   "outputs": [
    {
     "name": "stdout",
     "output_type": "stream",
     "text": [
      "7\n"
     ]
    }
   ],
   "source": [
    "# Traditional function using def \n",
    "def add3_v1(a):\n",
    "    return a+3\n",
    "\n",
    "print (add3_v1(4))"
   ]
  },
  {
   "cell_type": "markdown",
   "metadata": {},
   "source": [
    "The code below will return the function reference here we can assign it to any arbitrary variable"
   ]
  },
  {
   "cell_type": "code",
   "execution_count": 86,
   "metadata": {
    "ExecuteTime": {
     "end_time": "2019-12-04T05:28:33.883818Z",
     "start_time": "2019-12-04T05:28:33.872825Z"
    }
   },
   "outputs": [
    {
     "name": "stdout",
     "output_type": "stream",
     "text": [
      "7\n"
     ]
    }
   ],
   "source": [
    "add3_v2 = lambda a : a + 3\n",
    "print (add3_v2(4))"
   ]
  },
  {
   "cell_type": "markdown",
   "metadata": {
    "ExecuteTime": {
     "end_time": "2019-12-04T05:31:48.482216Z",
     "start_time": "2019-12-04T05:31:48.471223Z"
    }
   },
   "source": [
    "Self called lamda\n",
    "    - We can also write the lambda and make it call itself"
   ]
  },
  {
   "cell_type": "code",
   "execution_count": 91,
   "metadata": {
    "ExecuteTime": {
     "end_time": "2019-12-04T05:32:17.390466Z",
     "start_time": "2019-12-04T05:32:17.380471Z"
    }
   },
   "outputs": [
    {
     "name": "stdout",
     "output_type": "stream",
     "text": [
      "7\n"
     ]
    }
   ],
   "source": [
    "print ((lambda a: a+3)(4))"
   ]
  },
  {
   "cell_type": "markdown",
   "metadata": {},
   "source": [
    "Another example\n",
    "    - Lambda function with 3 input arguments that sums the input values"
   ]
  },
  {
   "cell_type": "code",
   "execution_count": 93,
   "metadata": {
    "ExecuteTime": {
     "end_time": "2019-12-04T05:34:25.822020Z",
     "start_time": "2019-12-04T05:34:25.804026Z"
    }
   },
   "outputs": [
    {
     "name": "stdout",
     "output_type": "stream",
     "text": [
      "6\n"
     ]
    }
   ],
   "source": [
    "x = lambda a, b, c : a + b + c\n",
    "print (x(1,2,3))"
   ]
  },
  {
   "cell_type": "markdown",
   "metadata": {},
   "source": [
    "# regex"
   ]
  },
  {
   "cell_type": "markdown",
   "metadata": {},
   "source": [
    "A RegEx, or Regular Expression, is a sequence of characters that forms a search pattern.\n",
    "\n",
    "RegEx can be used to check if a string contains the specified search pattern."
   ]
  },
  {
   "cell_type": "markdown",
   "metadata": {},
   "source": [
    "Example 1\n",
    "    - The code below checks whether the `txt` starts with `The`, has `rain` in it, and ends with `Spain`."
   ]
  },
  {
   "cell_type": "code",
   "execution_count": 162,
   "metadata": {
    "ExecuteTime": {
     "end_time": "2019-12-04T06:30:19.088393Z",
     "start_time": "2019-12-04T06:30:19.080398Z"
    }
   },
   "outputs": [],
   "source": [
    "txt = \"The rain in Spain\""
   ]
  },
  {
   "cell_type": "code",
   "execution_count": 163,
   "metadata": {
    "ExecuteTime": {
     "end_time": "2019-12-04T06:30:19.712037Z",
     "start_time": "2019-12-04T06:30:19.703042Z"
    }
   },
   "outputs": [],
   "source": [
    "if txt.startswith(\"The\") and \"rain\" in txt and txt.endswith(\"Spain\"):\n",
    "    print (txt)"
   ]
  },
  {
   "cell_type": "markdown",
   "metadata": {},
   "source": [
    "- `^The` \n",
    "    - means the text should start with `The`\n",
    "- `.*` \n",
    "    - means the text may have one or more characters \n",
    "- `(rain)`\n",
    "    - means the text should have the word `rain` somwhere after the word `The` \n",
    "- `Spain$`\n",
    "    - means the text should end with `Spain`\n"
   ]
  },
  {
   "cell_type": "code",
   "execution_count": 165,
   "metadata": {
    "ExecuteTime": {
     "end_time": "2019-12-04T06:31:31.942763Z",
     "start_time": "2019-12-04T06:31:31.933771Z"
    }
   },
   "outputs": [],
   "source": [
    "# Using re.search and Escape characters ^.*$\n",
    "if re.search(\"^The.*(rain).*Spain$\", txt):\n",
    "    print (txt)"
   ]
  },
  {
   "cell_type": "markdown",
   "metadata": {},
   "source": [
    "  Example 2\n",
    "      - Extract only the dollar values from the sentence. \n",
    "            - You have to spend a lot of time and write long code to implement usign traditional string based search\n",
    "            - With regex, we can implement it in one line"
   ]
  },
  {
   "cell_type": "code",
   "execution_count": 166,
   "metadata": {
    "ExecuteTime": {
     "end_time": "2019-12-04T06:33:13.710685Z",
     "start_time": "2019-12-04T06:33:13.702689Z"
    }
   },
   "outputs": [],
   "source": [
    "txt2 = 'We just received $10.20 for the cookies'"
   ]
  },
  {
   "cell_type": "markdown",
   "metadata": {},
   "source": [
    "- `\\$` - Locates a real dollar sign\n",
    "- `[0-9.]` - A digit or dot\n",
    "- `+` - At least one ore more character"
   ]
  },
  {
   "cell_type": "code",
   "execution_count": 168,
   "metadata": {
    "ExecuteTime": {
     "end_time": "2019-12-04T06:34:14.128678Z",
     "start_time": "2019-12-04T06:34:14.116683Z"
    }
   },
   "outputs": [
    {
     "data": {
      "text/plain": [
       "['$10.20']"
      ]
     },
     "execution_count": 168,
     "metadata": {},
     "output_type": "execute_result"
    }
   ],
   "source": [
    "re.findall('\\$[0-9.]+',txt2)"
   ]
  },
  {
   "cell_type": "code",
   "execution_count": 170,
   "metadata": {
    "ExecuteTime": {
     "end_time": "2019-12-04T06:34:16.917085Z",
     "start_time": "2019-12-04T06:34:16.905090Z"
    }
   },
   "outputs": [
    {
     "data": {
      "text/plain": [
       "['$10.20', '$2.5']"
      ]
     },
     "execution_count": 170,
     "metadata": {},
     "output_type": "execute_result"
    }
   ],
   "source": [
    "txt3 = 'We just received $10.20 for the cookies. I have to give a change of $2.5 back'\n",
    "re.findall('\\$[0-9.]+',txt3)"
   ]
  },
  {
   "cell_type": "markdown",
   "metadata": {},
   "source": [
    "# Counter"
   ]
  },
  {
   "cell_type": "code",
   "execution_count": 228,
   "metadata": {
    "ExecuteTime": {
     "end_time": "2019-12-04T07:35:10.652588Z",
     "start_time": "2019-12-04T07:35:10.640593Z"
    }
   },
   "outputs": [
    {
     "name": "stdout",
     "output_type": "stream",
     "text": [
      "From stephen.marquard@uct.ac.za Sat Jan  5 09:14:16 2008\n",
      "Return-Path: <postmaster@collab.sakaiproject.org>\n",
      "Received: from murder (mail.umich.edu [141.211.14.90])\n",
      "\t by frankenstein.mail.umich.edu (Cyrus v2.3.8) with LMTPA;\n",
      "\t Sat, 05 Jan 2008 09:14:16 -0500\n",
      "X-Sieve: CMU Sieve 2.3\n",
      "Received: from murder ([unix socket])\n",
      "\t by mail.umich.edu (Cyrus v2.2.12) with LMTPA;\n",
      "\t Sat, 05 Jan 2008 09:14:16 -0500\n",
      "Received: from holes.mr.itd.umich.edu (holes.mr.itd.umich.edu [141.211.14.79])\n",
      "\tby flawless.mail.umic\n"
     ]
    }
   ],
   "source": [
    "# Reads .txt data \n",
    "mbox_data = open('data/mbox-short.txt', 'r').read()\n",
    "print (mbox_data[:500])"
   ]
  },
  {
   "cell_type": "code",
   "execution_count": 231,
   "metadata": {
    "ExecuteTime": {
     "end_time": "2019-12-04T07:35:38.899458Z",
     "start_time": "2019-12-04T07:35:38.884468Z"
    },
    "scrolled": true
   },
   "outputs": [
    {
     "name": "stdout",
     "output_type": "stream",
     "text": [
      "['From', 'stephen.marquard@uct.ac.za', 'Sat', 'Jan', '', '5', '09:14:16', '2008\\nReturn-Path:', '<postmaster@collab.sakaiproject.org>\\nReceived:', 'from', 'murder', '(mail.umich.edu', '[141.211.14.90])\\n\\t', 'by', 'frankenstein.mail.umich.edu', '(Cyrus', 'v2.3.8)', 'with', 'LMTPA;\\n\\t', 'Sat,']\n"
     ]
    }
   ],
   "source": [
    "# Make them as a list of words\n",
    "mbox_data_split = mbox_data.strip().split(' ')\n",
    "print (mbox_data_split[:20])"
   ]
  },
  {
   "cell_type": "code",
   "execution_count": 226,
   "metadata": {
    "ExecuteTime": {
     "end_time": "2019-12-04T07:34:43.072828Z",
     "start_time": "2019-12-04T07:34:43.031852Z"
    },
    "scrolled": true
   },
   "outputs": [
    {
     "name": "stdout",
     "output_type": "stream",
     "text": [
      "From <=> 1\n",
      "stephen.marquard@uct.ac.za <=> 4\n",
      "Sat <=> 2\n",
      "Jan <=> 352\n",
      " <=> 902\n",
      "5 <=> 10\n",
      "09:14:16 <=> 4\n",
      "2008\n",
      "Return-Path: <=> 27\n",
      "<postmaster@collab.sakaiproject.org>\n",
      "Received: <=> 27\n",
      "from <=> 218\n",
      "murder <=> 54\n"
     ]
    }
   ],
   "source": [
    "# Count the freq of unique words in the text file\n",
    "freq = Counter(mbox_data_split)\n",
    "for i, (word, count) in enumerate(freq.items()):\n",
    "    print (word, \"<=>\", count)\n",
    "    # Print first 10 words\n",
    "    if i==10: \n",
    "        break"
   ]
  },
  {
   "cell_type": "markdown",
   "metadata": {},
   "source": [
    "# Power of numpy"
   ]
  },
  {
   "cell_type": "markdown",
   "metadata": {},
   "source": [
    "## Square of a vector"
   ]
  },
  {
   "cell_type": "code",
   "execution_count": 126,
   "metadata": {
    "ExecuteTime": {
     "end_time": "2019-12-04T06:07:50.900718Z",
     "start_time": "2019-12-04T06:07:50.631871Z"
    }
   },
   "outputs": [
    {
     "name": "stdout",
     "output_type": "stream",
     "text": [
      "Time elapsed: 0.2508561611175537\n"
     ]
    }
   ],
   "source": [
    "start_time = time()\n",
    "\n",
    "a = list(range(0,100000,1))\n",
    "b = []\n",
    "for i in a:\n",
    "    b.append(i**2)\n",
    "    \n",
    "end_time = time()\n",
    "print ('Time elapsed:', end_time - start_time)"
   ]
  },
  {
   "cell_type": "markdown",
   "metadata": {},
   "source": [
    "Now, let's see how much time it takes using numpy (vectorization)"
   ]
  },
  {
   "cell_type": "code",
   "execution_count": 127,
   "metadata": {
    "ExecuteTime": {
     "end_time": "2019-12-04T06:07:53.370306Z",
     "start_time": "2019-12-04T06:07:53.347320Z"
    }
   },
   "outputs": [
    {
     "name": "stdout",
     "output_type": "stream",
     "text": [
      "Time elapsed: 0.007993936538696289\n"
     ]
    }
   ],
   "source": [
    "start_time = time()\n",
    "\n",
    "a = np.arange(0,100000,1)\n",
    "b = np.square(a)\n",
    "\n",
    "end_time = time()\n",
    "print ('Time elapsed:', end_time - start_time)"
   ]
  },
  {
   "cell_type": "markdown",
   "metadata": {},
   "source": [
    "## Dot product of 2 vectors"
   ]
  },
  {
   "cell_type": "markdown",
   "metadata": {},
   "source": [
    "$a = [a_{1}, a_{n}, a_{3}, ... , a_{n}]$ & $b = [b_{1}, b_{2}, b_{3}, ... , b_{n}]$\n",
    "\n",
    "$c = a.b = [a{1}*b{1} + a{2}*b{2} + ... + a{n}*b{n}]$"
   ]
  },
  {
   "cell_type": "code",
   "execution_count": 108,
   "metadata": {
    "ExecuteTime": {
     "end_time": "2019-12-04T06:01:20.771706Z",
     "start_time": "2019-12-04T06:01:20.487870Z"
    }
   },
   "outputs": [],
   "source": [
    "a = np.random.randn(1000000)\n",
    "b = np.random.randn(1000000)"
   ]
  },
  {
   "cell_type": "code",
   "execution_count": 118,
   "metadata": {
    "ExecuteTime": {
     "end_time": "2019-12-04T06:05:55.369566Z",
     "start_time": "2019-12-04T06:05:50.945093Z"
    }
   },
   "outputs": [
    {
     "name": "stdout",
     "output_type": "stream",
     "text": [
      "-423.1358127918502\n",
      "Time elapsed: 4.40748143196106\n"
     ]
    }
   ],
   "source": [
    "# Dot product in traditional for loop setting\n",
    "start_time = time()\n",
    "\n",
    "c = 0\n",
    "for i,j in zip(a,b):\n",
    "    c = c + i*j\n",
    "print (c)\n",
    "\n",
    "end_time = time()\n",
    "print ('Time elapsed:', end_time - start_time)"
   ]
  },
  {
   "cell_type": "code",
   "execution_count": 119,
   "metadata": {
    "ExecuteTime": {
     "end_time": "2019-12-04T06:05:55.393552Z",
     "start_time": "2019-12-04T06:05:55.374565Z"
    },
    "scrolled": true
   },
   "outputs": [
    {
     "name": "stdout",
     "output_type": "stream",
     "text": [
      "-423.1358127918902\n",
      "Time elapsed: 0.006995677947998047\n"
     ]
    }
   ],
   "source": [
    "# Dot product using numpy\n",
    "start_time = time()\n",
    "\n",
    "print (np.dot(a,b))\n",
    "\n",
    "end_time = time()\n",
    "print ('Time elapsed:', end_time - start_time)"
   ]
  },
  {
   "cell_type": "markdown",
   "metadata": {},
   "source": [
    "# Power of Pandas"
   ]
  },
  {
   "cell_type": "code",
   "execution_count": 185,
   "metadata": {
    "ExecuteTime": {
     "end_time": "2019-12-04T07:16:52.264590Z",
     "start_time": "2019-12-04T07:16:52.244597Z"
    }
   },
   "outputs": [
    {
     "name": "stdout",
     "output_type": "stream",
     "text": [
      "Array shape: (5000, 10)\n"
     ]
    }
   ],
   "source": [
    "a = np.random.randint(low=-9999, high=9999, size=(5000,10), dtype='int')\n",
    "print (\"Array shape:\", a.shape)"
   ]
  },
  {
   "cell_type": "code",
   "execution_count": 189,
   "metadata": {
    "ExecuteTime": {
     "end_time": "2019-12-04T07:17:28.909645Z",
     "start_time": "2019-12-04T07:17:28.896653Z"
    }
   },
   "outputs": [
    {
     "name": "stdout",
     "output_type": "stream",
     "text": [
      "First 5 row values in array\n",
      "[[ 8665  3439  9676 -2913 -5027 -1009  7213   577  3733  2788]\n",
      " [ 5087  5886 -2491  -401  8569  8710  5347 -4611 -9134   409]\n",
      " [ 8354 -7601  8482 -9339  7898 -1866  3875  -255   305 -1166]\n",
      " [-6570  5010   951  9995 -4884 -5431 -7937  1772  9745  8497]\n",
      " [ 9011 -2853  8334  4679  5893   558 -4850  -877  3232 -6574]]\n"
     ]
    }
   ],
   "source": [
    "print ('First 5 row values in array')\n",
    "print (a[0:5,:])"
   ]
  },
  {
   "cell_type": "code",
   "execution_count": 182,
   "metadata": {
    "ExecuteTime": {
     "end_time": "2019-12-04T07:15:36.005173Z",
     "start_time": "2019-12-04T07:15:35.575408Z"
    }
   },
   "outputs": [],
   "source": [
    "# Write the entire array data into csv file by one line\n",
    "np.savetxt('data/data1.csv', a, delimiter=\",\")"
   ]
  },
  {
   "cell_type": "code",
   "execution_count": 184,
   "metadata": {
    "ExecuteTime": {
     "end_time": "2019-12-04T07:15:43.394939Z",
     "start_time": "2019-12-04T07:15:43.248022Z"
    },
    "scrolled": true
   },
   "outputs": [
    {
     "data": {
      "text/plain": [
       "(5000, 10)"
      ]
     },
     "execution_count": 184,
     "metadata": {},
     "output_type": "execute_result"
    }
   ],
   "source": [
    "# Read the entire csv in on line\n",
    "df = pd.read_csv('data/data1.csv', header=None)\n",
    "df.shape"
   ]
  },
  {
   "cell_type": "code",
   "execution_count": 190,
   "metadata": {
    "ExecuteTime": {
     "end_time": "2019-12-04T07:17:34.189628Z",
     "start_time": "2019-12-04T07:17:34.152650Z"
    }
   },
   "outputs": [
    {
     "name": "stdout",
     "output_type": "stream",
     "text": [
      "        0       1       2       3       4       5       6       7       8  \\\n",
      "0 -7854.0  7875.0  -632.0 -8854.0 -5691.0 -2334.0 -1310.0 -7933.0  3448.0   \n",
      "1 -9484.0  3953.0  1400.0  4274.0 -7045.0 -1067.0 -8537.0  4745.0  4095.0   \n",
      "2  5832.0  2921.0 -1770.0  -355.0  8607.0 -5338.0  1578.0 -1806.0 -2519.0   \n",
      "3  5207.0  1146.0  5068.0 -4338.0 -5966.0 -4945.0  6653.0  1565.0  5226.0   \n",
      "4   144.0 -3751.0 -2496.0 -1437.0 -4437.0 -2510.0 -4167.0 -6520.0   508.0   \n",
      "\n",
      "        9  \n",
      "0 -6106.0  \n",
      "1  5853.0  \n",
      "2  4004.0  \n",
      "3 -6685.0  \n",
      "4  9246.0  \n"
     ]
    }
   ],
   "source": [
    "print(df.head(n=5))"
   ]
  },
  {
   "cell_type": "markdown",
   "metadata": {},
   "source": [
    "# Python and JSON"
   ]
  },
  {
   "cell_type": "markdown",
   "metadata": {},
   "source": [
    "https://www.w3schools.com/python/python_json.asp"
   ]
  },
  {
   "cell_type": "code",
   "execution_count": null,
   "metadata": {},
   "outputs": [],
   "source": []
  }
 ],
 "metadata": {
  "kernelspec": {
   "display_name": "Python3",
   "language": "python",
   "name": "python3"
  },
  "language_info": {
   "codemirror_mode": {
    "name": "ipython",
    "version": 3
   },
   "file_extension": ".py",
   "mimetype": "text/x-python",
   "name": "python",
   "nbconvert_exporter": "python",
   "pygments_lexer": "ipython3",
   "version": "3.6.7"
  },
  "toc": {
   "base_numbering": 1,
   "nav_menu": {},
   "number_sections": true,
   "sideBar": true,
   "skip_h1_title": false,
   "title_cell": "Table of Contents",
   "title_sidebar": "Contents",
   "toc_cell": false,
   "toc_position": {
    "height": "calc(100% - 180px)",
    "left": "10px",
    "top": "150px",
    "width": "372px"
   },
   "toc_section_display": true,
   "toc_window_display": true
  }
 },
 "nbformat": 4,
 "nbformat_minor": 2
}
